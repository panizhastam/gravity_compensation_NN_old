{
 "cells": [
  {
   "cell_type": "markdown",
   "source": [
    "### Creating a MLP regression model with PyTorch\n",
    "The first step is to import all the required dependencies. Then, we will use a Multilayer Perceptron based model, which is essentially a stack of layers containing neurons that can be trained.\n",
    "We also have to ensure that the dataset is prepared into a DataLoader, which ensures that data is shuffled and batched appropriately.\n",
    "Then, we pick a loss function and initialize it. We also init the model and the optimizer (Adam).\n",
    "Finally, we create the training loop, which effectively contains the high-level training process captured in code."
   ],
   "metadata": {
    "collapsed": false
   }
  },
  {
   "cell_type": "code",
   "execution_count": 13,
   "metadata": {
    "collapsed": true
   },
   "outputs": [],
   "source": [
    "import torch\n",
    "from torch import nn\n",
    "from torch.utils.data import DataLoader\n",
    "from sklearn.metrics import mean_squared_error\n",
    "from sklearn import preprocessing\n",
    "from sklearn.model_selection import train_test_split\n",
    "import pandas as pd\n",
    "import MyData\n",
    "import matplotlib.pyplot as plt"
   ]
  },
  {
   "cell_type": "markdown",
   "source": [
    "# Loading and preparing the data\n",
    "personally I don't think normalization is needed for this project but here is the way:"
   ],
   "metadata": {
    "collapsed": false
   }
  },
  {
   "cell_type": "code",
   "execution_count": 14,
   "outputs": [],
   "source": [
    "df = pd.read_csv('dataset/alldata_up.csv')\n",
    "# d = preprocessing.normalize(df, axis=0)\n",
    "# scaled_df = pd.DataFrame(d, columns=names)\n",
    "# scaled_df.head()"
   ],
   "metadata": {
    "collapsed": false
   }
  },
  {
   "cell_type": "markdown",
   "source": [
    "Splitting the dataset into test and train with 20% to 80% ratio using scikit-learn API. Then, saving them separately to directory."
   ],
   "metadata": {
    "collapsed": false
   }
  },
  {
   "cell_type": "code",
   "execution_count": 15,
   "outputs": [],
   "source": [
    "train, test = train_test_split(df, test_size=0.2, shuffle=True)\n",
    "train.to_csv('dataset/traindata.csv', index=False)\n",
    "train.to_csv('dataset/testdata.csv', index=False)"
   ],
   "metadata": {
    "collapsed": false
   }
  },
  {
   "cell_type": "markdown",
   "source": [
    "Defining hyper parameters"
   ],
   "metadata": {
    "collapsed": false
   }
  },
  {
   "cell_type": "code",
   "execution_count": 16,
   "outputs": [],
   "source": [
    "learning_rate = 1e-6\n",
    "batch_size = 20\n",
    "number_of_labels = 3"
   ],
   "metadata": {
    "collapsed": false
   }
  },
  {
   "cell_type": "markdown",
   "source": [
    "Creating a loader for the test set which will read the data within batch size and put into memory.\n",
    "Note that each shuffle is set to false for the test loader."
   ],
   "metadata": {
    "collapsed": false
   }
  },
  {
   "cell_type": "code",
   "execution_count": 17,
   "outputs": [
    {
     "name": "stdout",
     "output_type": "stream",
     "text": [
      "The tensor shape in a training set is:  7000\n",
      "The tensor shape in a test set is:  7000\n"
     ]
    }
   ],
   "source": [
    "csv_path_train = 'dataset/traindata.csv'\n",
    "train_data = MyData.GainDataset(csv_path_train)\n",
    "train_loader = DataLoader(train_data, batch_size=batch_size, shuffle=True)\n",
    "print(\"The tensor shape in a training set is: \", len(train_loader) * batch_size)\n",
    "\n",
    "csv_path_test = 'dataset/testdata.csv'\n",
    "test_data = MyData.GainDataset(csv_path_test)\n",
    "test_loader = DataLoader(test_data, batch_size=batch_size, shuffle=False)\n",
    "print(\"The tensor shape in a test set is: \", len(test_loader) * batch_size)"
   ],
   "metadata": {
    "collapsed": false
   }
  },
  {
   "cell_type": "markdown",
   "source": [
    "# Defining the neural network\n",
    "Because we are doing a simple regression, we are going to use one hidden layer"
   ],
   "metadata": {
    "collapsed": false
   }
  },
  {
   "cell_type": "code",
   "execution_count": 18,
   "outputs": [],
   "source": [
    "input_size = 3\n",
    "output_size = 3\n",
    "\n",
    "class Network(nn.Module):\n",
    "    def __init__(self, input_size, output_size):\n",
    "        super(Network, self).__init__()\n",
    "\n",
    "        self.layer1 = nn.Linear(input_size, 64)\n",
    "        self.layer2 = nn.Linear(64, 32)\n",
    "        self.layer3 = nn.Linear(32, output_size)\n",
    "\n",
    "    def forward(self, x):\n",
    "        x1 = nn.functional.relu(self.layer1(x))\n",
    "        x2 = nn.functional.relu(self.layer2(x1))\n",
    "        x3 = self.layer3(x2)\n",
    "        return x3\n",
    "\n",
    "# Instantiate the model\n",
    "model = Network(input_size, output_size)"
   ],
   "metadata": {
    "collapsed": false
   }
  },
  {
   "cell_type": "markdown",
   "source": [
    "Define your execution device"
   ],
   "metadata": {
    "collapsed": false
   }
  },
  {
   "cell_type": "code",
   "execution_count": 19,
   "outputs": [
    {
     "name": "stdout",
     "output_type": "stream",
     "text": [
      "The model will be running on cpu device\n",
      "\n"
     ]
    },
    {
     "data": {
      "text/plain": "Network(\n  (layer1): Linear(in_features=3, out_features=64, bias=True)\n  (layer2): Linear(in_features=64, out_features=32, bias=True)\n  (layer3): Linear(in_features=32, out_features=3, bias=True)\n)"
     },
     "execution_count": 19,
     "metadata": {},
     "output_type": "execute_result"
    }
   ],
   "source": [
    "device = torch.device(\"cpu\")\n",
    "print(\"The model will be running on\", device, \"device\\n\")\n",
    "model.to(device)  # Convert model parameters and buffers to CPU or Cuda"
   ],
   "metadata": {
    "collapsed": false
   }
  },
  {
   "cell_type": "markdown",
   "source": [
    "Function to save the model"
   ],
   "metadata": {
    "collapsed": false
   }
  },
  {
   "cell_type": "code",
   "execution_count": 20,
   "outputs": [],
   "source": [
    "def saveModel():\n",
    "    path = \"trainedmodels/model2.pth\"\n",
    "    torch.save(model.state_dict(), path)"
   ],
   "metadata": {
    "collapsed": false
   }
  },
  {
   "cell_type": "markdown",
   "source": [
    "Define the loss function with Classification Cross-Entropy loss and an optimizer with Adam optimizer"
   ],
   "metadata": {
    "collapsed": false
   }
  },
  {
   "cell_type": "code",
   "execution_count": 21,
   "outputs": [],
   "source": [
    "loss_fn = nn.L1Loss()\n",
    "optimizer = torch.optim.Adam(model.parameters(), lr=learning_rate, weight_decay=0.0001)"
   ],
   "metadata": {
    "collapsed": false
   }
  },
  {
   "cell_type": "markdown",
   "source": [
    "## Training Function"
   ],
   "metadata": {
    "collapsed": false
   }
  },
  {
   "cell_type": "code",
   "execution_count": 22,
   "outputs": [],
   "source": [
    "def train(num_epochs):\n",
    "\n",
    "    print(\"Begin training...\")\n",
    "    for epoch in range(1, num_epochs + 1):\n",
    "        running_train_loss = 0.0\n",
    "\n",
    "        # Training Loop\n",
    "        for data in train_loader:\n",
    "            # for data in enumerate(train_loader, 0):\n",
    "            inputs, outputs = data\n",
    "            optimizer.zero_grad()  # zero the parameter gradients\n",
    "            predicted_outputs = model(inputs)  # predict output from the model\n",
    "            train_loss = loss_fn(predicted_outputs, outputs)  # calculate loss for the predicted output\n",
    "            train_loss.backward()  # backpropagation\n",
    "            optimizer.step()  # adjust parameters based on the calculated gradients\n",
    "            running_train_loss += train_loss.item()  # track the loss value\n",
    "\n",
    "        # Calculate training loss value\n",
    "        train_loss_value = running_train_loss / len(train_loader)\n",
    "\n",
    "        # here, a validation loop can be added\n",
    "        # ...\n",
    "\n",
    "        saveModel()\n",
    "\n",
    "        # Print the statistics of the epoch\n",
    "        print('Completed training batch', epoch, 'Training Loss is: %.4f' % train_loss_value)"
   ],
   "metadata": {
    "collapsed": false
   }
  },
  {
   "cell_type": "markdown",
   "source": [
    "## Testing"
   ],
   "metadata": {
    "collapsed": false
   }
  },
  {
   "cell_type": "code",
   "execution_count": 23,
   "outputs": [],
   "source": [
    "def test():\n",
    "    # Load the model that we saved at the end of the training loop\n",
    "    model = Network(input_size, output_size)\n",
    "    path = \"trainedmodels/model2.pth\"\n",
    "    model.load_state_dict(torch.load(path))\n",
    "    model.eval()\n",
    "    running_accuracy = 0\n",
    "\n",
    "    with torch.no_grad():\n",
    "        for data in test_loader:\n",
    "            inputs, outputs = data\n",
    "            outputs = outputs.to(torch.float32)\n",
    "            predicted_outputs = model(inputs)\n",
    "            error = predicted_outputs - outputs # honestly I dont know what to do with the error nor how to interpret it haha:))\n",
    "            running_accuracy = mean_squared_error(outputs, predicted_outputs)\n",
    "\n",
    "        print('Accuracy of the model based on the test set of', len(test_loader) * batch_size,\n",
    "              'inputs is: %d %%' % running_accuracy) # this should somehow be in percents\n",
    "\n",
    "        plt.plot(inputs, predicted_outputs, color='k')\n",
    "\n",
    "        plt.show()"
   ],
   "metadata": {
    "collapsed": false
   }
  },
  {
   "cell_type": "markdown",
   "source": [
    "Now, we run the main program:"
   ],
   "metadata": {
    "collapsed": false
   }
  },
  {
   "cell_type": "code",
   "execution_count": 24,
   "outputs": [
    {
     "name": "stdout",
     "output_type": "stream",
     "text": [
      "Begin training...\n",
      "Completed training batch 1 Training Loss is: 1.8976\n",
      "Completed training batch 2 Training Loss is: 1.8921\n",
      "Completed training batch 3 Training Loss is: 1.8873\n",
      "Completed training batch 4 Training Loss is: 1.8830\n",
      "Completed training batch 5 Training Loss is: 1.8801\n",
      "Completed training batch 6 Training Loss is: 1.8789\n",
      "Completed training batch 7 Training Loss is: 1.8712\n",
      "Completed training batch 8 Training Loss is: 1.8669\n",
      "Completed training batch 9 Training Loss is: 1.8642\n",
      "Completed training batch 10 Training Loss is: 1.8556\n",
      "Completed training batch 11 Training Loss is: 1.8566\n",
      "Completed training batch 12 Training Loss is: 1.8518\n",
      "Completed training batch 13 Training Loss is: 1.8437\n",
      "Completed training batch 14 Training Loss is: 1.8415\n",
      "Completed training batch 15 Training Loss is: 1.8367\n",
      "Completed training batch 16 Training Loss is: 1.8336\n",
      "Completed training batch 17 Training Loss is: 1.8251\n",
      "Completed training batch 18 Training Loss is: 1.8216\n",
      "Completed training batch 19 Training Loss is: 1.8179\n",
      "Completed training batch 20 Training Loss is: 1.8152\n",
      "Completed training batch 21 Training Loss is: 1.8154\n",
      "Completed training batch 22 Training Loss is: 1.8083\n",
      "Completed training batch 23 Training Loss is: 1.8063\n",
      "Completed training batch 24 Training Loss is: 1.8036\n",
      "Completed training batch 25 Training Loss is: 1.7971\n",
      "Completed training batch 26 Training Loss is: 1.7941\n",
      "Completed training batch 27 Training Loss is: 1.7942\n",
      "Completed training batch 28 Training Loss is: 1.7894\n",
      "Completed training batch 29 Training Loss is: 1.7865\n",
      "Completed training batch 30 Training Loss is: 1.7840\n",
      "Completed training batch 31 Training Loss is: 1.7778\n",
      "Completed training batch 32 Training Loss is: 1.7783\n",
      "Completed training batch 33 Training Loss is: 1.7733\n",
      "Completed training batch 34 Training Loss is: 1.7721\n",
      "Completed training batch 35 Training Loss is: 1.7718\n",
      "Completed training batch 36 Training Loss is: 1.7663\n",
      "Completed training batch 37 Training Loss is: 1.7638\n",
      "Completed training batch 38 Training Loss is: 1.7593\n",
      "Completed training batch 39 Training Loss is: 1.7568\n",
      "Completed training batch 40 Training Loss is: 1.7557\n",
      "Finished Training\n",
      "\n",
      "Accuracy of the model based on the test set of 7000 inputs is: 10 %\n"
     ]
    },
    {
     "data": {
      "text/plain": "<Figure size 432x288 with 1 Axes>",
      "image/png": "[encoded data removed]"
     },
     "metadata": {
      "needs_background": "light"
     },
     "output_type": "display_data"
    }
   ],
   "source": [
    "if __name__ == \"__main__\":\n",
    "    torch.manual_seed(42)\n",
    "    num_epochs = 40\n",
    "    train(num_epochs)\n",
    "    print('Finished Training\\n')\n",
    "    test()"
   ],
   "metadata": {
    "collapsed": false
   }
  },
  {
   "cell_type": "markdown",
   "source": [
    "# Loading and using the model\n",
    "** Please refer to gettingoutputs.py **"
   ],
   "metadata": {
    "collapsed": false
   }
  }
 ],
 "metadata": {
  "kernelspec": {
   "display_name": "Python 3",
   "language": "python",
   "name": "python3"
  },
  "language_info": {
   "codemirror_mode": {
    "name": "ipython",
    "version": 2
   },
   "file_extension": ".py",
   "mimetype": "text/x-python",
   "name": "python",
   "nbconvert_exporter": "python",
   "pygments_lexer": "ipython2",
   "version": "2.7.6"
  }
 },
 "nbformat": 4,
 "nbformat_minor": 0
}
